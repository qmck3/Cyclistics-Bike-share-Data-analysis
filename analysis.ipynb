{
 "cells": [
  {
   "cell_type": "code",
   "execution_count": 1,
   "id": "3fe65950",
   "metadata": {},
   "outputs": [],
   "source": [
    "import pandas as pd\n",
    "from datetime import timedelta\n"
   ]
  },
  {
   "cell_type": "markdown",
   "id": "ede0a995",
   "metadata": {},
   "source": [
    "#### Reading data \n",
    "First, I read data from 12 csv files, corresponding to data from 12 months <br>\n",
    "I change 2 fields started_at and ended_at to their corresponding format - datetime <br>\n",
    "And then combine them into 1 dataframe called df "
   ]
  },
  {
   "cell_type": "code",
   "execution_count": 2,
   "id": "eb7232d6",
   "metadata": {},
   "outputs": [
    {
     "name": "stdout",
     "output_type": "stream",
     "text": [
      "<class 'pandas.core.frame.DataFrame'>\n",
      "RangeIndex: 5779379 entries, 0 to 5779378\n",
      "Data columns (total 13 columns):\n",
      " #   Column              Dtype         \n",
      "---  ------              -----         \n",
      " 0   ride_id             object        \n",
      " 1   rideable_type       object        \n",
      " 2   started_at          datetime64[ns]\n",
      " 3   ended_at            datetime64[ns]\n",
      " 4   start_station_name  object        \n",
      " 5   start_station_id    object        \n",
      " 6   end_station_name    object        \n",
      " 7   end_station_id      object        \n",
      " 8   start_lat           float64       \n",
      " 9   start_lng           float64       \n",
      " 10  end_lat             float64       \n",
      " 11  end_lng             float64       \n",
      " 12  member_casual       object        \n",
      "dtypes: datetime64[ns](2), float64(4), object(7)\n",
      "memory usage: 573.2+ MB\n",
      "None\n"
     ]
    }
   ],
   "source": [
    "csv_files = ['202207-divvy-tripdata.csv', '202208-divvy-tripdata.csv','202209-divvy-publictripdata.csv', \n",
    "             '202210-divvy-tripdata.csv', '202211-divvy-tripdata.csv', '202212-divvy-tripdata.csv', \n",
    "             '202301-divvy-tripdata.csv', '202302-divvy-tripdata.csv', '202303-divvy-tripdata.csv', \n",
    "             '202304-divvy-tripdata.csv', '202305-divvy-tripdata.csv', '202306-divvy-tripdata.csv']\n",
    "\n",
    "dfs = []\n",
    "for filename in csv_files:\n",
    "    df = pd.read_csv(filename, index_col=None, header=0)\n",
    "    df[['started_at', 'ended_at']] = df[['started_at', 'ended_at']].apply(pd.to_datetime)\n",
    "    dfs.append(df)\n",
    "\n",
    "df = pd.concat(dfs, axis=0, ignore_index=True)\n",
    "print(df.info())"
   ]
  },
  {
   "cell_type": "markdown",
   "id": "9fbed9b9",
   "metadata": {},
   "source": [
    "#### Processing\n",
    "To process data, I delete rows that have NaN values, duplicated rows and rows that have started time equals or larger than ended time"
   ]
  },
  {
   "cell_type": "code",
   "execution_count": 3,
   "id": "9c7ed7f7",
   "metadata": {},
   "outputs": [],
   "source": [
    "df = df.dropna()\n",
    "df = df.drop_duplicates()\n",
    "df = df.drop(df[df.started_at >= df.ended_at].index)"
   ]
  },
  {
   "cell_type": "code",
   "execution_count": 4,
   "id": "f5f4e1e5",
   "metadata": {},
   "outputs": [
    {
     "name": "stdout",
     "output_type": "stream",
     "text": [
      "                  ride_id  rideable_type          started_at  \\\n",
      "0        954144C2F67B1932   classic_bike 2022-07-05 08:12:47   \n",
      "1        292E027607D218B6   classic_bike 2022-07-26 12:53:38   \n",
      "2        57765852588AD6E0   classic_bike 2022-07-03 13:58:49   \n",
      "3        B5B6BE44314590E6   classic_bike 2022-07-31 17:44:21   \n",
      "4        A4C331F2A00E79E0   classic_bike 2022-07-13 19:49:06   \n",
      "...                   ...            ...                 ...   \n",
      "5779374  F5769BAFB81F2A68  electric_bike 2023-06-30 23:59:00   \n",
      "5779375  CFC627752C368170  electric_bike 2023-06-30 23:59:00   \n",
      "5779376  DA633467FDF61D11   classic_bike 2023-06-30 23:59:00   \n",
      "5779377  A6814A2943D5CFC2  electric_bike 2023-06-30 23:59:00   \n",
      "5779378  41FC14F87DA92588  electric_bike 2023-06-30 23:59:00   \n",
      "\n",
      "                   ended_at          start_station_name start_station_id  \\\n",
      "0       2022-07-05 08:24:32  Ashland Ave & Blackhawk St            13224   \n",
      "1       2022-07-26 12:55:31  Buckingham Fountain (Temp)            15541   \n",
      "2       2022-07-03 14:06:32  Buckingham Fountain (Temp)            15541   \n",
      "3       2022-07-31 18:42:50  Buckingham Fountain (Temp)            15541   \n",
      "4       2022-07-13 20:15:24      Wabash Ave & Grand Ave     TA1307000117   \n",
      "...                     ...                         ...              ...   \n",
      "5779374 2023-07-01 00:04:00    Laflin St & Cullerton St            13307   \n",
      "5779375 2023-07-01 00:03:00     Clark St & Winnemac Ave     TA1309000035   \n",
      "5779376 2023-07-01 01:02:00      Michigan Ave & Lake St     TA1305000011   \n",
      "5779377 2023-07-01 00:13:00     Aberdeen St & Monroe St            13156   \n",
      "5779378 2023-07-01 00:13:00     Aberdeen St & Monroe St            13156   \n",
      "\n",
      "                       end_station_name end_station_id  start_lat  start_lng  \\\n",
      "0              Kingsbury St & Kinzie St   KA1503000043  41.907066 -87.667252   \n",
      "1                 Michigan Ave & 8th St            623  41.869621 -87.623981   \n",
      "2                 Michigan Ave & 8th St            623  41.869621 -87.623981   \n",
      "3                Woodlawn Ave & 55th St   TA1307000164  41.869621 -87.623981   \n",
      "4        Sheffield Ave & Wellington Ave   TA1307000052  41.891466 -87.626761   \n",
      "...                                 ...            ...        ...        ...   \n",
      "5779374            Halsted St & 18th St          13099  41.854807 -87.663744   \n",
      "5779375         Sheridan Rd & Argyle St          13059  41.973346 -87.667887   \n",
      "5779376          State St & Harrison St         SL-007  41.886022 -87.624398   \n",
      "5779377               Wells St & Elm St   KA1504000135  41.880359 -87.655708   \n",
      "5779378               Wells St & Elm St   KA1504000135  41.880368 -87.655690   \n",
      "\n",
      "           end_lat    end_lng member_casual     ride_length start_weekday  \n",
      "0        41.889177 -87.638506        member 0 days 00:11:45       Tuesday  \n",
      "1        41.872773 -87.623981        casual 0 days 00:01:53       Tuesday  \n",
      "2        41.872773 -87.623981        casual 0 days 00:07:43        Sunday  \n",
      "3        41.795264 -87.596471        casual 0 days 00:58:29        Sunday  \n",
      "4        41.936253 -87.652662        member 0 days 00:26:18     Wednesday  \n",
      "...            ...        ...           ...             ...           ...  \n",
      "5779374  41.857506 -87.645991        casual 0 days 00:05:00        Friday  \n",
      "5779375  41.973287 -87.654760        casual 0 days 00:04:00        Friday  \n",
      "5779376  41.874053 -87.627716        casual 0 days 01:03:00        Friday  \n",
      "5779377  41.903222 -87.634324        member 0 days 00:14:00        Friday  \n",
      "5779378  41.903222 -87.634324        casual 0 days 00:14:00        Friday  \n",
      "\n",
      "[4402882 rows x 15 columns]\n"
     ]
    }
   ],
   "source": [
    "df['ride_length'] = df['ended_at'] - df['started_at']\n",
    "df['start_weekday'] = df['started_at'].dt.day_name()\n",
    "print(df)"
   ]
  },
  {
   "cell_type": "markdown",
   "id": "cf110f62",
   "metadata": {},
   "source": [
    "#### Analyzing data\n",
    "First, I divide df to 2 sub dataframe of member and casual customers to get some statistics like total rides, total ride length, average ride time of each dataset. "
   ]
  },
  {
   "cell_type": "code",
   "execution_count": 5,
   "id": "c45ae19e",
   "metadata": {
    "scrolled": true
   },
   "outputs": [
    {
     "name": "stdout",
     "output_type": "stream",
     "text": [
      "count                      2729610\n",
      "mean     0 days 00:12:07.083207491\n",
      "std      0 days 00:19:35.891962222\n",
      "min                0 days 00:00:01\n",
      "25%                0 days 00:05:01\n",
      "50%                0 days 00:08:43\n",
      "75%                0 days 00:14:55\n",
      "max                1 days 00:57:52\n",
      "Name: ride_length, dtype: object\n",
      "count                      1673272\n",
      "mean     0 days 00:22:31.660317031\n",
      "std      0 days 00:53:55.565913810\n",
      "min                0 days 00:00:01\n",
      "25%                0 days 00:07:17\n",
      "50%                0 days 00:12:56\n",
      "75%                0 days 00:24:02\n",
      "max               22 days 05:55:27\n",
      "Name: ride_length, dtype: object\n",
      "count                      4402882\n",
      "mean     0 days 00:16:04.447595007\n",
      "std      0 days 00:36:59.850994962\n",
      "min                0 days 00:00:01\n",
      "25%                0 days 00:05:45\n",
      "50%                0 days 00:10:00\n",
      "75%                0 days 00:17:56\n",
      "max               22 days 05:55:27\n",
      "Name: ride_length, dtype: object\n",
      "member: 1984653594.0\n",
      "casual: 2261695362.0\n"
     ]
    }
   ],
   "source": [
    "member_df = df.loc[df['member_casual'] == 'member']\n",
    "casual_df = df.loc[df['member_casual'] == 'casual']\n",
    "print(member_df.ride_length.describe())\n",
    "print(casual_df.ride_length.describe())\n",
    "print(df.ride_length.describe())\n",
    "print('member:', member_df['ride_length'].dt.total_seconds().sum())\n",
    "print('casual:', casual_df['ride_length'].dt.total_seconds().sum())"
   ]
  },
  {
   "cell_type": "markdown",
   "id": "eb0af062",
   "metadata": {},
   "source": [
    "Then I create a dataframe which querry month, type of bike, type of member, and calculate average ride time and count of each observation.<br>\n",
    "And then save it to a excel sheet. "
   ]
  },
  {
   "cell_type": "code",
   "execution_count": 6,
   "id": "9e36c067",
   "metadata": {
    "scrolled": true
   },
   "outputs": [
    {
     "name": "stdout",
     "output_type": "stream",
     "text": [
      "    month  rideable_type member_casual   count  average ride length(s)\n",
      "0       1   classic_bike        casual   13860             1033.742208\n",
      "1       1   classic_bike        member   76359              640.316204\n",
      "2       1    docked_bike        casual    1682             2307.323424\n",
      "3       1  electric_bike        casual   14076              585.042057\n",
      "4       1  electric_bike        member   42303              527.995178\n",
      "5       2   classic_bike        casual   15446             1219.211446\n",
      "6       2   classic_bike        member   74220              668.970951\n",
      "7       2    docked_bike        casual    2151             2575.920037\n",
      "8       2  electric_bike        casual   15177              683.988469\n",
      "9       2  electric_bike        member   42558              549.281522\n",
      "10      3   classic_bike        casual   19380             1217.272343\n",
      "11      3   classic_bike        member   87595              670.434089\n",
      "12      3    docked_bike        casual    2944             2514.290761\n",
      "13      3  electric_bike        casual   24462              651.893304\n",
      "14      3  electric_bike        member   66052              530.515488\n",
      "15      4   classic_bike        casual   48729             1580.759301\n",
      "16      4   classic_bike        member  120791              770.471608\n",
      "17      4    docked_bike        casual    8660             3070.924827\n",
      "18      4  electric_bike        casual   53137              873.280219\n",
      "19      4  electric_bike        member   92856              593.119357\n",
      "20      5   classic_bike        casual   92288             1623.972358\n",
      "21      5   classic_bike        member  177166              824.413352\n",
      "22      5    docked_bike        casual   12808             3226.023657\n",
      "23      5  electric_bike        casual   71929              963.662167\n",
      "24      5  electric_bike        member  108996              659.736339\n",
      "25      6   classic_bike        casual  115205             1591.353327\n",
      "26      6   classic_bike        member  194704              842.028926\n",
      "27      6    docked_bike        casual   14470             3398.774015\n",
      "28      6  electric_bike        casual   87893              966.425768\n",
      "29      6  electric_bike        member  116579              691.931308\n",
      "30      7   classic_bike        casual  155665             1489.130505\n",
      "31      7   classic_bike        member  216985              864.113317\n",
      "32      7    docked_bike        casual   30595             3256.040039\n",
      "33      7  electric_bike        casual  125389             1099.189411\n",
      "34      7  electric_bike        member  113995              707.683890\n",
      "35      8   classic_bike        casual  128299             1441.305949\n",
      "36      8   classic_bike        member  215318              838.997065\n",
      "37      8    docked_bike        casual   25888             2924.936496\n",
      "38      8  electric_bike        casual  115887             1006.953463\n",
      "39      8  electric_bike        member  119883              691.982366\n",
      "40      9   classic_bike        casual  105079             1386.261165\n",
      "41      9   classic_bike        member  200664              808.675607\n",
      "42      9    docked_bike        casual   19488             2711.834873\n",
      "43      9  electric_bike        casual   96338              939.317777\n",
      "44      9  electric_bike        member  113550              666.647257\n",
      "45     10   classic_bike        casual   61401             1372.030081\n",
      "46     10   classic_bike        member  151884              763.190428\n",
      "47     10    docked_bike        casual   12396             2734.516618\n",
      "48     10  electric_bike        casual   77515              873.318403\n",
      "49     10  electric_bike        member  111042              614.848805\n",
      "50     11   classic_bike        casual   32945             1128.042950\n",
      "51     11   classic_bike        member  111497              691.948295\n",
      "52     11    docked_bike        casual    5794             2382.121850\n",
      "53     11  electric_bike        casual   34794              722.160459\n",
      "54     11  electric_bike        member   70722              582.999109\n",
      "55     12   classic_bike        casual   12599             1049.118184\n",
      "56     12   classic_bike        member   60669              654.283852\n",
      "57     12    docked_bike        casual    1872             2290.019231\n",
      "58     12  electric_bike        casual   17031              619.348012\n",
      "59     12  electric_bike        member   43222              552.811207\n"
     ]
    }
   ],
   "source": [
    "df['month'] = df.loc[:,'started_at'].dt.month\n",
    "month_count= df.groupby(['month','rideable_type','member_casual']).size()\n",
    "month_count = month_count.reset_index(name='count')\n",
    "avg_ride_len = df.groupby(['month','rideable_type','member_casual']).ride_length.mean().dt.total_seconds()\n",
    "avg_ride_len = avg_ride_len.reset_index(name='average ride length(s)')\n",
    "\n",
    "month_df = pd.merge(month_count, avg_ride_len, on = ['member_casual', 'rideable_type', 'month'])\n",
    "#month_df['average ride length'] = month_df['average ride length'].apply(lambda x: str(x).split('.')[0])\n",
    "#month_df['average ride length'] = month_df['average ride length'].apply(lambda x: x.strftime('%H:%M:%S'))\n",
    "print(month_df)\n",
    "with pd.ExcelWriter('cyclistics_data.xlsx', mode = 'a', if_sheet_exists='replace') as writer:\n",
    "    month_df.to_excel(writer, sheet_name='bike_type_month', index=False)"
   ]
  },
  {
   "cell_type": "markdown",
   "id": "2820497f",
   "metadata": {},
   "source": [
    "Then I create a dataframe which querry hour, weekday, type of member, and calculate average ride time and count of each observation.<br>\n",
    "And then save the data to a excel sheet."
   ]
  },
  {
   "cell_type": "code",
   "execution_count": 7,
   "id": "0e651568",
   "metadata": {},
   "outputs": [
    {
     "name": "stdout",
     "output_type": "stream",
     "text": [
      "     hour start_weekday member_casual  count  average ride length(s)\n",
      "0       0        Friday        casual   3624             1201.588852\n",
      "1       0        Friday        member   3342              661.594853\n",
      "2       0        Monday        casual   2399             1295.751146\n",
      "3       0        Monday        member   2004              679.911178\n",
      "4       0      Saturday        casual   8254             1163.906954\n",
      "..    ...           ...           ...    ...                     ...\n",
      "331    23      Thursday        member   6364              684.642206\n",
      "332    23       Tuesday        casual   3267             1064.178145\n",
      "333    23       Tuesday        member   4265              672.088159\n",
      "334    23     Wednesday        casual   4301             1036.856312\n",
      "335    23     Wednesday        member   5088              693.511399\n",
      "\n",
      "[336 rows x 5 columns]\n"
     ]
    }
   ],
   "source": [
    "df['hour'] = df.loc[:,'started_at'].dt.hour\n",
    "customer_hour = df.groupby(['hour', 'start_weekday','member_casual']).size()\n",
    "customer_hour = customer_hour.reset_index(name='count')\n",
    "customer_hour['hour'] = customer_hour['hour'].astype(int)\n",
    "avg_ride_len = df.groupby(['hour', 'start_weekday','member_casual']).ride_length.mean().dt.total_seconds()\n",
    "avg_ride_len = avg_ride_len.reset_index(name='average ride length(s)')\n",
    "\n",
    "customer_hour = pd.merge(customer_hour, avg_ride_len, on = ['hour', 'start_weekday','member_casual'])\n",
    "\n",
    "print(customer_hour)\n",
    "with pd.ExcelWriter('cyclistics_data.xlsx', mode='a', if_sheet_exists='replace') as writer:\n",
    "    customer_hour.to_excel(writer, sheet_name='hour_weekday', index=False)"
   ]
  },
  {
   "cell_type": "markdown",
   "id": "44c0cb03",
   "metadata": {},
   "source": [
    "Then I find top 50 stations that have the most rides from casual customers, these stations may be good for promoting membership advertisement so casual customers can see membership upgrading plans and membership benefits.  "
   ]
  },
  {
   "cell_type": "code",
   "execution_count": 9,
   "id": "9a45f8f4",
   "metadata": {},
   "outputs": [
    {
     "name": "stdout",
     "output_type": "stream",
     "text": [
      "                              station  count\n",
      "0             Streeter Dr & Grand Ave  49711\n",
      "1   DuSable Lake Shore Dr & Monroe St  29042\n",
      "2               Michigan Ave & Oak St  22352\n",
      "3                     Millennium Park  21927\n",
      "4  DuSable Lake Shore Dr & North Blvd  20297\n",
      "5                      Shedd Aquarium  18508\n",
      "6                 Theater on the Lake  16093\n",
      "7               Wells St & Concord Ln  13493\n",
      "8                      Dusable Harbor  13191\n",
      "9          Indiana Ave & Roosevelt Rd  11959\n"
     ]
    }
   ],
   "source": [
    "casual_station_count = casual_df.loc[:,'start_station_name'].value_counts()\n",
    "casual_station_count = casual_station_count.nlargest(10)\n",
    "casual_station_count = casual_station_count.reset_index(name='count')\n",
    "casual_station_count = casual_station_count.rename(columns={'index': 'station'})\n",
    "\n",
    "print(casual_station_count)\n",
    "with pd.ExcelWriter('cyclistics_data.xlsx', mode='a', if_sheet_exists='replace') as writer:\n",
    "    casual_station_count.to_excel(writer, sheet_name='top_casual_start_station', index=False)"
   ]
  },
  {
   "cell_type": "code",
   "execution_count": null,
   "id": "f983cd33",
   "metadata": {},
   "outputs": [],
   "source": []
  }
 ],
 "metadata": {
  "kernelspec": {
   "display_name": "Python 3 (ipykernel)",
   "language": "python",
   "name": "python3"
  },
  "language_info": {
   "codemirror_mode": {
    "name": "ipython",
    "version": 3
   },
   "file_extension": ".py",
   "mimetype": "text/x-python",
   "name": "python",
   "nbconvert_exporter": "python",
   "pygments_lexer": "ipython3",
   "version": "3.10.1"
  }
 },
 "nbformat": 4,
 "nbformat_minor": 5
}
